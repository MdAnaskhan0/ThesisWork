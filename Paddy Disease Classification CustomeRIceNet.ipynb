{
 "cells": [
  {
   "cell_type": "code",
   "execution_count": 1,
   "metadata": {
    "execution": {
     "iopub.execute_input": "2025-01-07T20:22:50.387661Z",
     "iopub.status.busy": "2025-01-07T20:22:50.387418Z",
     "iopub.status.idle": "2025-01-07T22:11:07.732636Z",
     "shell.execute_reply": "2025-01-07T22:11:07.731616Z",
     "shell.execute_reply.started": "2025-01-07T20:22:50.387637Z"
    },
    "trusted": true
   },
   "outputs": [
    {
     "name": "stdout",
     "output_type": "stream",
     "text": [
      "Using device: cuda\n",
      "Number of classes: 10\n",
      "Label mapping: {'bacterial_leaf_blight': 0, 'bacterial_leaf_streak': 1, 'bacterial_panicle_blight': 2, 'blast': 3, 'brown_spot': 4, 'dead_heart': 5, 'downy_mildew': 6, 'hispa': 7, 'normal': 8, 'tungro': 9}\n",
      "Found 10407 valid images\n",
      "Number of classes: 10\n",
      "Label mapping: {'bacterial_leaf_blight': 0, 'bacterial_leaf_streak': 1, 'bacterial_panicle_blight': 2, 'blast': 3, 'brown_spot': 4, 'dead_heart': 5, 'downy_mildew': 6, 'hispa': 7, 'normal': 8, 'tungro': 9}\n",
      "Found 10407 valid images\n",
      "Number of classes: 10\n",
      "Label mapping: {'bacterial_leaf_blight': 0, 'bacterial_leaf_streak': 1, 'bacterial_panicle_blight': 2, 'blast': 3, 'brown_spot': 4, 'dead_heart': 5, 'downy_mildew': 6, 'hispa': 7, 'normal': 8, 'tungro': 9}\n",
      "Found 10407 valid images\n"
     ]
    },
    {
     "name": "stderr",
     "output_type": "stream",
     "text": [
      "Downloading: \"https://download.pytorch.org/models/resnet18-f37072fd.pth\" to /root/.cache/torch/hub/checkpoints/resnet18-f37072fd.pth\n",
      "100%|██████████| 44.7M/44.7M [00:00<00:00, 182MB/s] \n",
      "Downloading: \"https://download.pytorch.org/models/densenet121-a639ec97.pth\" to /root/.cache/torch/hub/checkpoints/densenet121-a639ec97.pth\n",
      "100%|██████████| 30.8M/30.8M [00:00<00:00, 158MB/s] \n",
      "/usr/local/lib/python3.10/dist-packages/torch/optim/lr_scheduler.py:60: UserWarning: The verbose parameter is deprecated. Please use get_last_lr() to access the learning rate.\n",
      "  warnings.warn(\n"
     ]
    },
    {
     "name": "stdout",
     "output_type": "stream",
     "text": [
      "\n",
      "Epoch 1/50\n"
     ]
    },
    {
     "name": "stderr",
     "output_type": "stream",
     "text": [
      "Training: 100%|██████████| 261/261 [01:53<00:00,  2.30it/s]\n",
      "Validation: 100%|██████████| 66/66 [00:15<00:00,  4.14it/s]\n"
     ]
    },
    {
     "name": "stdout",
     "output_type": "stream",
     "text": [
      "Train Loss: 1.9462 | Train Acc: 31.17%\n",
      "Val Loss: 1.8264 | Val Acc: 37.27%\n",
      "\n",
      "Epoch 2/50\n"
     ]
    },
    {
     "name": "stderr",
     "output_type": "stream",
     "text": [
      "Training: 100%|██████████| 261/261 [01:59<00:00,  2.18it/s]\n",
      "Validation: 100%|██████████| 66/66 [00:10<00:00,  6.08it/s]\n"
     ]
    },
    {
     "name": "stdout",
     "output_type": "stream",
     "text": [
      "Train Loss: 1.6858 | Train Acc: 41.90%\n",
      "Val Loss: 1.4592 | Val Acc: 48.08%\n",
      "\n",
      "Epoch 3/50\n"
     ]
    },
    {
     "name": "stderr",
     "output_type": "stream",
     "text": [
      "Training: 100%|██████████| 261/261 [01:59<00:00,  2.19it/s]\n",
      "Validation: 100%|██████████| 66/66 [00:10<00:00,  6.22it/s]\n"
     ]
    },
    {
     "name": "stdout",
     "output_type": "stream",
     "text": [
      "Train Loss: 1.5281 | Train Acc: 47.81%\n",
      "Val Loss: 1.3848 | Val Acc: 53.12%\n",
      "\n",
      "Epoch 4/50\n"
     ]
    },
    {
     "name": "stderr",
     "output_type": "stream",
     "text": [
      "Training: 100%|██████████| 261/261 [01:59<00:00,  2.18it/s]\n",
      "Validation: 100%|██████████| 66/66 [00:10<00:00,  6.08it/s]\n"
     ]
    },
    {
     "name": "stdout",
     "output_type": "stream",
     "text": [
      "Train Loss: 1.4078 | Train Acc: 52.43%\n",
      "Val Loss: 1.3422 | Val Acc: 54.76%\n",
      "\n",
      "Epoch 5/50\n"
     ]
    },
    {
     "name": "stderr",
     "output_type": "stream",
     "text": [
      "Training: 100%|██████████| 261/261 [01:59<00:00,  2.18it/s]\n",
      "Validation: 100%|██████████| 66/66 [00:10<00:00,  6.27it/s]\n"
     ]
    },
    {
     "name": "stdout",
     "output_type": "stream",
     "text": [
      "Train Loss: 1.2562 | Train Acc: 58.23%\n",
      "Val Loss: 1.2335 | Val Acc: 60.04%\n",
      "\n",
      "Epoch 6/50\n"
     ]
    },
    {
     "name": "stderr",
     "output_type": "stream",
     "text": [
      "Training: 100%|██████████| 261/261 [01:59<00:00,  2.18it/s]\n",
      "Validation: 100%|██████████| 66/66 [00:10<00:00,  6.17it/s]\n"
     ]
    },
    {
     "name": "stdout",
     "output_type": "stream",
     "text": [
      "Train Loss: 1.1841 | Train Acc: 60.35%\n",
      "Val Loss: 0.9308 | Val Acc: 67.44%\n",
      "\n",
      "Epoch 7/50\n"
     ]
    },
    {
     "name": "stderr",
     "output_type": "stream",
     "text": [
      "Training: 100%|██████████| 261/261 [01:59<00:00,  2.19it/s]\n",
      "Validation: 100%|██████████| 66/66 [00:10<00:00,  6.31it/s]\n"
     ]
    },
    {
     "name": "stdout",
     "output_type": "stream",
     "text": [
      "Train Loss: 1.0945 | Train Acc: 63.71%\n",
      "Val Loss: 0.8492 | Val Acc: 71.47%\n",
      "\n",
      "Epoch 8/50\n"
     ]
    },
    {
     "name": "stderr",
     "output_type": "stream",
     "text": [
      "Training: 100%|██████████| 261/261 [01:59<00:00,  2.19it/s]\n",
      "Validation: 100%|██████████| 66/66 [00:10<00:00,  6.41it/s]\n"
     ]
    },
    {
     "name": "stdout",
     "output_type": "stream",
     "text": [
      "Train Loss: 1.0050 | Train Acc: 66.85%\n",
      "Val Loss: 0.8188 | Val Acc: 72.77%\n",
      "\n",
      "Epoch 9/50\n"
     ]
    },
    {
     "name": "stderr",
     "output_type": "stream",
     "text": [
      "Training: 100%|██████████| 261/261 [01:59<00:00,  2.19it/s]\n",
      "Validation: 100%|██████████| 66/66 [00:10<00:00,  6.12it/s]\n"
     ]
    },
    {
     "name": "stdout",
     "output_type": "stream",
     "text": [
      "Train Loss: 0.9642 | Train Acc: 68.76%\n",
      "Val Loss: 0.7290 | Val Acc: 75.12%\n",
      "\n",
      "Epoch 10/50\n"
     ]
    },
    {
     "name": "stderr",
     "output_type": "stream",
     "text": [
      "Training: 100%|██████████| 261/261 [01:59<00:00,  2.19it/s]\n",
      "Validation: 100%|██████████| 66/66 [00:10<00:00,  6.25it/s]\n"
     ]
    },
    {
     "name": "stdout",
     "output_type": "stream",
     "text": [
      "Train Loss: 0.9036 | Train Acc: 70.31%\n",
      "Val Loss: 0.7336 | Val Acc: 75.36%\n",
      "\n",
      "Epoch 11/50\n"
     ]
    },
    {
     "name": "stderr",
     "output_type": "stream",
     "text": [
      "Training: 100%|██████████| 261/261 [01:58<00:00,  2.20it/s]\n",
      "Validation: 100%|██████████| 66/66 [00:10<00:00,  6.26it/s]\n"
     ]
    },
    {
     "name": "stdout",
     "output_type": "stream",
     "text": [
      "Train Loss: 0.8573 | Train Acc: 72.02%\n",
      "Val Loss: 0.6750 | Val Acc: 77.47%\n",
      "\n",
      "Epoch 12/50\n"
     ]
    },
    {
     "name": "stderr",
     "output_type": "stream",
     "text": [
      "Training: 100%|██████████| 261/261 [01:58<00:00,  2.20it/s]\n",
      "Validation: 100%|██████████| 66/66 [00:10<00:00,  6.51it/s]\n"
     ]
    },
    {
     "name": "stdout",
     "output_type": "stream",
     "text": [
      "Train Loss: 0.8271 | Train Acc: 73.12%\n",
      "Val Loss: 0.6572 | Val Acc: 77.81%\n",
      "\n",
      "Epoch 13/50\n"
     ]
    },
    {
     "name": "stderr",
     "output_type": "stream",
     "text": [
      "Training: 100%|██████████| 261/261 [01:58<00:00,  2.20it/s]\n",
      "Validation: 100%|██████████| 66/66 [00:10<00:00,  6.38it/s]\n"
     ]
    },
    {
     "name": "stdout",
     "output_type": "stream",
     "text": [
      "Train Loss: 0.7929 | Train Acc: 74.31%\n",
      "Val Loss: 0.5356 | Val Acc: 82.90%\n",
      "\n",
      "Epoch 14/50\n"
     ]
    },
    {
     "name": "stderr",
     "output_type": "stream",
     "text": [
      "Training: 100%|██████████| 261/261 [01:58<00:00,  2.20it/s]\n",
      "Validation: 100%|██████████| 66/66 [00:09<00:00,  6.63it/s]\n"
     ]
    },
    {
     "name": "stdout",
     "output_type": "stream",
     "text": [
      "Train Loss: 0.7410 | Train Acc: 75.76%\n",
      "Val Loss: 0.6954 | Val Acc: 77.76%\n",
      "\n",
      "Epoch 15/50\n"
     ]
    },
    {
     "name": "stderr",
     "output_type": "stream",
     "text": [
      "Training: 100%|██████████| 261/261 [01:58<00:00,  2.20it/s]\n",
      "Validation: 100%|██████████| 66/66 [00:10<00:00,  6.21it/s]\n"
     ]
    },
    {
     "name": "stdout",
     "output_type": "stream",
     "text": [
      "Train Loss: 0.6965 | Train Acc: 76.91%\n",
      "Val Loss: 0.5051 | Val Acc: 83.91%\n",
      "\n",
      "Epoch 16/50\n"
     ]
    },
    {
     "name": "stderr",
     "output_type": "stream",
     "text": [
      "Training: 100%|██████████| 261/261 [01:58<00:00,  2.20it/s]\n",
      "Validation: 100%|██████████| 66/66 [00:10<00:00,  6.27it/s]\n"
     ]
    },
    {
     "name": "stdout",
     "output_type": "stream",
     "text": [
      "Train Loss: 0.6567 | Train Acc: 78.71%\n",
      "Val Loss: 0.5470 | Val Acc: 81.41%\n",
      "\n",
      "Epoch 17/50\n"
     ]
    },
    {
     "name": "stderr",
     "output_type": "stream",
     "text": [
      "Training: 100%|██████████| 261/261 [01:58<00:00,  2.20it/s]\n",
      "Validation: 100%|██████████| 66/66 [00:10<00:00,  6.13it/s]\n"
     ]
    },
    {
     "name": "stdout",
     "output_type": "stream",
     "text": [
      "Train Loss: 0.6398 | Train Acc: 79.35%\n",
      "Val Loss: 0.5375 | Val Acc: 81.36%\n",
      "\n",
      "Epoch 18/50\n"
     ]
    },
    {
     "name": "stderr",
     "output_type": "stream",
     "text": [
      "Training: 100%|██████████| 261/261 [01:58<00:00,  2.21it/s]\n",
      "Validation: 100%|██████████| 66/66 [00:10<00:00,  6.28it/s]\n"
     ]
    },
    {
     "name": "stdout",
     "output_type": "stream",
     "text": [
      "Train Loss: 0.5941 | Train Acc: 80.85%\n",
      "Val Loss: 0.4462 | Val Acc: 84.58%\n",
      "\n",
      "Epoch 19/50\n"
     ]
    },
    {
     "name": "stderr",
     "output_type": "stream",
     "text": [
      "Training: 100%|██████████| 261/261 [01:58<00:00,  2.21it/s]\n",
      "Validation: 100%|██████████| 66/66 [00:10<00:00,  6.54it/s]\n"
     ]
    },
    {
     "name": "stdout",
     "output_type": "stream",
     "text": [
      "Train Loss: 0.5908 | Train Acc: 80.92%\n",
      "Val Loss: 0.4472 | Val Acc: 84.05%\n",
      "\n",
      "Epoch 20/50\n"
     ]
    },
    {
     "name": "stderr",
     "output_type": "stream",
     "text": [
      "Training: 100%|██████████| 261/261 [01:58<00:00,  2.21it/s]\n",
      "Validation: 100%|██████████| 66/66 [00:10<00:00,  6.40it/s]\n"
     ]
    },
    {
     "name": "stdout",
     "output_type": "stream",
     "text": [
      "Train Loss: 0.5653 | Train Acc: 81.65%\n",
      "Val Loss: 0.4582 | Val Acc: 84.92%\n",
      "\n",
      "Epoch 21/50\n"
     ]
    },
    {
     "name": "stderr",
     "output_type": "stream",
     "text": [
      "Training: 100%|██████████| 261/261 [01:57<00:00,  2.21it/s]\n",
      "Validation: 100%|██████████| 66/66 [00:10<00:00,  6.43it/s]\n"
     ]
    },
    {
     "name": "stdout",
     "output_type": "stream",
     "text": [
      "Train Loss: 0.5494 | Train Acc: 82.05%\n",
      "Val Loss: 0.4083 | Val Acc: 86.89%\n",
      "\n",
      "Epoch 22/50\n"
     ]
    },
    {
     "name": "stderr",
     "output_type": "stream",
     "text": [
      "Training: 100%|██████████| 261/261 [01:58<00:00,  2.21it/s]\n",
      "Validation: 100%|██████████| 66/66 [00:10<00:00,  6.41it/s]\n"
     ]
    },
    {
     "name": "stdout",
     "output_type": "stream",
     "text": [
      "Train Loss: 0.5216 | Train Acc: 83.14%\n",
      "Val Loss: 0.4070 | Val Acc: 86.84%\n",
      "\n",
      "Epoch 23/50\n"
     ]
    },
    {
     "name": "stderr",
     "output_type": "stream",
     "text": [
      "Training: 100%|██████████| 261/261 [01:57<00:00,  2.22it/s]\n",
      "Validation: 100%|██████████| 66/66 [00:10<00:00,  6.28it/s]\n"
     ]
    },
    {
     "name": "stdout",
     "output_type": "stream",
     "text": [
      "Train Loss: 0.5114 | Train Acc: 83.62%\n",
      "Val Loss: 0.5165 | Val Acc: 81.22%\n",
      "\n",
      "Epoch 24/50\n"
     ]
    },
    {
     "name": "stderr",
     "output_type": "stream",
     "text": [
      "Training: 100%|██████████| 261/261 [01:58<00:00,  2.21it/s]\n",
      "Validation: 100%|██████████| 66/66 [00:10<00:00,  6.18it/s]\n"
     ]
    },
    {
     "name": "stdout",
     "output_type": "stream",
     "text": [
      "Train Loss: 0.4987 | Train Acc: 84.23%\n",
      "Val Loss: 0.5482 | Val Acc: 83.62%\n",
      "\n",
      "Epoch 25/50\n"
     ]
    },
    {
     "name": "stderr",
     "output_type": "stream",
     "text": [
      "Training: 100%|██████████| 261/261 [01:58<00:00,  2.21it/s]\n",
      "Validation: 100%|██████████| 66/66 [00:09<00:00,  6.65it/s]\n"
     ]
    },
    {
     "name": "stdout",
     "output_type": "stream",
     "text": [
      "Train Loss: 0.4835 | Train Acc: 84.44%\n",
      "Val Loss: 0.3610 | Val Acc: 88.76%\n",
      "\n",
      "Epoch 26/50\n"
     ]
    },
    {
     "name": "stderr",
     "output_type": "stream",
     "text": [
      "Training: 100%|██████████| 261/261 [01:57<00:00,  2.21it/s]\n",
      "Validation: 100%|██████████| 66/66 [00:09<00:00,  6.68it/s]\n"
     ]
    },
    {
     "name": "stdout",
     "output_type": "stream",
     "text": [
      "Train Loss: 0.4571 | Train Acc: 85.00%\n",
      "Val Loss: 0.3522 | Val Acc: 88.23%\n",
      "\n",
      "Epoch 27/50\n"
     ]
    },
    {
     "name": "stderr",
     "output_type": "stream",
     "text": [
      "Training: 100%|██████████| 261/261 [01:58<00:00,  2.21it/s]\n",
      "Validation: 100%|██████████| 66/66 [00:10<00:00,  6.30it/s]\n"
     ]
    },
    {
     "name": "stdout",
     "output_type": "stream",
     "text": [
      "Train Loss: 0.4346 | Train Acc: 86.23%\n",
      "Val Loss: 0.3671 | Val Acc: 88.04%\n",
      "\n",
      "Epoch 28/50\n"
     ]
    },
    {
     "name": "stderr",
     "output_type": "stream",
     "text": [
      "Training: 100%|██████████| 261/261 [01:57<00:00,  2.22it/s]\n",
      "Validation: 100%|██████████| 66/66 [00:09<00:00,  6.65it/s]\n"
     ]
    },
    {
     "name": "stdout",
     "output_type": "stream",
     "text": [
      "Train Loss: 0.4406 | Train Acc: 86.03%\n",
      "Val Loss: 0.3205 | Val Acc: 90.39%\n",
      "\n",
      "Epoch 29/50\n"
     ]
    },
    {
     "name": "stderr",
     "output_type": "stream",
     "text": [
      "Training: 100%|██████████| 261/261 [01:57<00:00,  2.22it/s]\n",
      "Validation: 100%|██████████| 66/66 [00:10<00:00,  6.31it/s]\n"
     ]
    },
    {
     "name": "stdout",
     "output_type": "stream",
     "text": [
      "Train Loss: 0.4133 | Train Acc: 86.83%\n",
      "Val Loss: 0.3552 | Val Acc: 88.23%\n",
      "\n",
      "Epoch 30/50\n"
     ]
    },
    {
     "name": "stderr",
     "output_type": "stream",
     "text": [
      "Training: 100%|██████████| 261/261 [01:58<00:00,  2.21it/s]\n",
      "Validation: 100%|██████████| 66/66 [00:10<00:00,  6.34it/s]\n"
     ]
    },
    {
     "name": "stdout",
     "output_type": "stream",
     "text": [
      "Train Loss: 0.4126 | Train Acc: 87.03%\n",
      "Val Loss: 0.3930 | Val Acc: 87.66%\n",
      "\n",
      "Epoch 31/50\n"
     ]
    },
    {
     "name": "stderr",
     "output_type": "stream",
     "text": [
      "Training: 100%|██████████| 261/261 [01:57<00:00,  2.22it/s]\n",
      "Validation: 100%|██████████| 66/66 [00:10<00:00,  6.54it/s]\n"
     ]
    },
    {
     "name": "stdout",
     "output_type": "stream",
     "text": [
      "Train Loss: 0.4083 | Train Acc: 87.23%\n",
      "Val Loss: 0.3748 | Val Acc: 87.70%\n",
      "\n",
      "Epoch 32/50\n"
     ]
    },
    {
     "name": "stderr",
     "output_type": "stream",
     "text": [
      "Training: 100%|██████████| 261/261 [01:57<00:00,  2.22it/s]\n",
      "Validation: 100%|██████████| 66/66 [00:10<00:00,  6.29it/s]\n"
     ]
    },
    {
     "name": "stdout",
     "output_type": "stream",
     "text": [
      "Train Loss: 0.3836 | Train Acc: 87.98%\n",
      "Val Loss: 0.3039 | Val Acc: 90.63%\n",
      "\n",
      "Epoch 33/50\n"
     ]
    },
    {
     "name": "stderr",
     "output_type": "stream",
     "text": [
      "Training: 100%|██████████| 261/261 [01:57<00:00,  2.22it/s]\n",
      "Validation: 100%|██████████| 66/66 [00:10<00:00,  6.50it/s]\n"
     ]
    },
    {
     "name": "stdout",
     "output_type": "stream",
     "text": [
      "Train Loss: 0.3582 | Train Acc: 88.80%\n",
      "Val Loss: 0.3713 | Val Acc: 88.14%\n",
      "\n",
      "Epoch 34/50\n"
     ]
    },
    {
     "name": "stderr",
     "output_type": "stream",
     "text": [
      "Training: 100%|██████████| 261/261 [01:57<00:00,  2.22it/s]\n",
      "Validation: 100%|██████████| 66/66 [00:10<00:00,  6.53it/s]\n"
     ]
    },
    {
     "name": "stdout",
     "output_type": "stream",
     "text": [
      "Train Loss: 0.3795 | Train Acc: 88.20%\n",
      "Val Loss: 0.3187 | Val Acc: 90.59%\n",
      "\n",
      "Epoch 35/50\n"
     ]
    },
    {
     "name": "stderr",
     "output_type": "stream",
     "text": [
      "Training: 100%|██████████| 261/261 [01:57<00:00,  2.22it/s]\n",
      "Validation: 100%|██████████| 66/66 [00:09<00:00,  6.62it/s]\n"
     ]
    },
    {
     "name": "stdout",
     "output_type": "stream",
     "text": [
      "Train Loss: 0.3581 | Train Acc: 88.71%\n",
      "Val Loss: 0.2772 | Val Acc: 90.83%\n",
      "\n",
      "Epoch 36/50\n"
     ]
    },
    {
     "name": "stderr",
     "output_type": "stream",
     "text": [
      "Training: 100%|██████████| 261/261 [01:57<00:00,  2.23it/s]\n",
      "Validation: 100%|██████████| 66/66 [00:10<00:00,  6.53it/s]\n"
     ]
    },
    {
     "name": "stdout",
     "output_type": "stream",
     "text": [
      "Train Loss: 0.3460 | Train Acc: 89.32%\n",
      "Val Loss: 0.2549 | Val Acc: 92.07%\n",
      "\n",
      "Epoch 37/50\n"
     ]
    },
    {
     "name": "stderr",
     "output_type": "stream",
     "text": [
      "Training: 100%|██████████| 261/261 [01:57<00:00,  2.22it/s]\n",
      "Validation: 100%|██████████| 66/66 [00:10<00:00,  6.53it/s]\n"
     ]
    },
    {
     "name": "stdout",
     "output_type": "stream",
     "text": [
      "Train Loss: 0.3258 | Train Acc: 89.47%\n",
      "Val Loss: 0.2840 | Val Acc: 91.16%\n",
      "\n",
      "Epoch 38/50\n"
     ]
    },
    {
     "name": "stderr",
     "output_type": "stream",
     "text": [
      "Training: 100%|██████████| 261/261 [01:57<00:00,  2.23it/s]\n",
      "Validation: 100%|██████████| 66/66 [00:10<00:00,  6.07it/s]\n"
     ]
    },
    {
     "name": "stdout",
     "output_type": "stream",
     "text": [
      "Train Loss: 0.3175 | Train Acc: 90.04%\n",
      "Val Loss: 0.3127 | Val Acc: 90.06%\n",
      "\n",
      "Epoch 39/50\n"
     ]
    },
    {
     "name": "stderr",
     "output_type": "stream",
     "text": [
      "Training: 100%|██████████| 261/261 [01:57<00:00,  2.22it/s]\n",
      "Validation: 100%|██████████| 66/66 [00:10<00:00,  6.48it/s]\n"
     ]
    },
    {
     "name": "stdout",
     "output_type": "stream",
     "text": [
      "Train Loss: 0.3293 | Train Acc: 89.71%\n",
      "Val Loss: 0.2428 | Val Acc: 92.41%\n",
      "\n",
      "Epoch 40/50\n"
     ]
    },
    {
     "name": "stderr",
     "output_type": "stream",
     "text": [
      "Training: 100%|██████████| 261/261 [01:57<00:00,  2.23it/s]\n",
      "Validation: 100%|██████████| 66/66 [00:10<00:00,  6.42it/s]\n"
     ]
    },
    {
     "name": "stdout",
     "output_type": "stream",
     "text": [
      "Train Loss: 0.3030 | Train Acc: 90.21%\n",
      "Val Loss: 0.2475 | Val Acc: 91.83%\n",
      "\n",
      "Epoch 41/50\n"
     ]
    },
    {
     "name": "stderr",
     "output_type": "stream",
     "text": [
      "Training: 100%|██████████| 261/261 [01:57<00:00,  2.22it/s]\n",
      "Validation: 100%|██████████| 66/66 [00:10<00:00,  6.50it/s]\n"
     ]
    },
    {
     "name": "stdout",
     "output_type": "stream",
     "text": [
      "Train Loss: 0.2872 | Train Acc: 90.82%\n",
      "Val Loss: 0.2958 | Val Acc: 91.16%\n",
      "\n",
      "Epoch 42/50\n"
     ]
    },
    {
     "name": "stderr",
     "output_type": "stream",
     "text": [
      "Training: 100%|██████████| 261/261 [01:57<00:00,  2.23it/s]\n",
      "Validation: 100%|██████████| 66/66 [00:10<00:00,  6.40it/s]\n"
     ]
    },
    {
     "name": "stdout",
     "output_type": "stream",
     "text": [
      "Train Loss: 0.2936 | Train Acc: 90.61%\n",
      "Val Loss: 0.2508 | Val Acc: 92.22%\n",
      "\n",
      "Epoch 43/50\n"
     ]
    },
    {
     "name": "stderr",
     "output_type": "stream",
     "text": [
      "Training: 100%|██████████| 261/261 [01:57<00:00,  2.22it/s]\n",
      "Validation: 100%|██████████| 66/66 [00:10<00:00,  6.54it/s]\n"
     ]
    },
    {
     "name": "stdout",
     "output_type": "stream",
     "text": [
      "Train Loss: 0.2882 | Train Acc: 90.88%\n",
      "Val Loss: 0.2990 | Val Acc: 91.02%\n",
      "\n",
      "Epoch 44/50\n"
     ]
    },
    {
     "name": "stderr",
     "output_type": "stream",
     "text": [
      "Training: 100%|██████████| 261/261 [01:57<00:00,  2.23it/s]\n",
      "Validation: 100%|██████████| 66/66 [00:10<00:00,  6.43it/s]\n"
     ]
    },
    {
     "name": "stdout",
     "output_type": "stream",
     "text": [
      "Train Loss: 0.1925 | Train Acc: 94.21%\n",
      "Val Loss: 0.1920 | Val Acc: 94.48%\n",
      "\n",
      "Epoch 45/50\n"
     ]
    },
    {
     "name": "stderr",
     "output_type": "stream",
     "text": [
      "Training: 100%|██████████| 261/261 [01:57<00:00,  2.22it/s]\n",
      "Validation: 100%|██████████| 66/66 [00:09<00:00,  6.65it/s]\n"
     ]
    },
    {
     "name": "stdout",
     "output_type": "stream",
     "text": [
      "Train Loss: 0.1488 | Train Acc: 95.42%\n",
      "Val Loss: 0.1824 | Val Acc: 94.81%\n",
      "\n",
      "Epoch 46/50\n"
     ]
    },
    {
     "name": "stderr",
     "output_type": "stream",
     "text": [
      "Training: 100%|██████████| 261/261 [01:57<00:00,  2.22it/s]\n",
      "Validation: 100%|██████████| 66/66 [00:10<00:00,  6.31it/s]\n"
     ]
    },
    {
     "name": "stdout",
     "output_type": "stream",
     "text": [
      "Train Loss: 0.1378 | Train Acc: 95.78%\n",
      "Val Loss: 0.1790 | Val Acc: 95.20%\n",
      "\n",
      "Epoch 47/50\n"
     ]
    },
    {
     "name": "stderr",
     "output_type": "stream",
     "text": [
      "Training: 100%|██████████| 261/261 [01:57<00:00,  2.22it/s]\n",
      "Validation: 100%|██████████| 66/66 [00:10<00:00,  6.45it/s]\n"
     ]
    },
    {
     "name": "stdout",
     "output_type": "stream",
     "text": [
      "Train Loss: 0.1389 | Train Acc: 95.70%\n",
      "Val Loss: 0.1883 | Val Acc: 94.91%\n",
      "\n",
      "Epoch 48/50\n"
     ]
    },
    {
     "name": "stderr",
     "output_type": "stream",
     "text": [
      "Training: 100%|██████████| 261/261 [01:57<00:00,  2.22it/s]\n",
      "Validation: 100%|██████████| 66/66 [00:10<00:00,  6.42it/s]\n"
     ]
    },
    {
     "name": "stdout",
     "output_type": "stream",
     "text": [
      "Train Loss: 0.1264 | Train Acc: 96.12%\n",
      "Val Loss: 0.1857 | Val Acc: 94.72%\n",
      "\n",
      "Epoch 49/50\n"
     ]
    },
    {
     "name": "stderr",
     "output_type": "stream",
     "text": [
      "Training: 100%|██████████| 261/261 [01:57<00:00,  2.22it/s]\n",
      "Validation: 100%|██████████| 66/66 [00:09<00:00,  6.66it/s]\n"
     ]
    },
    {
     "name": "stdout",
     "output_type": "stream",
     "text": [
      "Train Loss: 0.1212 | Train Acc: 96.23%\n",
      "Val Loss: 0.1711 | Val Acc: 95.49%\n",
      "\n",
      "Epoch 50/50\n"
     ]
    },
    {
     "name": "stderr",
     "output_type": "stream",
     "text": [
      "Training: 100%|██████████| 261/261 [01:57<00:00,  2.22it/s]\n",
      "Validation: 100%|██████████| 66/66 [00:10<00:00,  6.50it/s]\n"
     ]
    },
    {
     "name": "stdout",
     "output_type": "stream",
     "text": [
      "Train Loss: 0.1125 | Train Acc: 96.50%\n",
      "Val Loss: 0.1833 | Val Acc: 95.24%\n"
     ]
    }
   ],
   "source": [
    "import pandas as pd\n",
    "import numpy as np\n",
    "import os\n",
    "import torch\n",
    "import torch.nn as nn\n",
    "import torch.optim as optim\n",
    "from torch.utils.data import Dataset, DataLoader, Subset\n",
    "from torchvision import transforms\n",
    "from torchvision import models\n",
    "from sklearn.model_selection import train_test_split\n",
    "from sklearn.metrics import accuracy_score, confusion_matrix, classification_report\n",
    "from PIL import Image  # Added missing import\n",
    "from tqdm import tqdm\n",
    "\n",
    "class RiceDiseaseDataset(Dataset):\n",
    "    def __init__(self, csv_file, base_path, transform=None):\n",
    "        self.data = pd.read_csv(csv_file)\n",
    "        self.base_path = base_path\n",
    "        self.transform = transform\n",
    "        self.label_mapping = {label: idx for idx, label in enumerate(self.data['label'].unique())}\n",
    "        \n",
    "        # Print dataset information\n",
    "        print(f\"Number of classes: {len(self.label_mapping)}\")\n",
    "        print(\"Label mapping:\", self.label_mapping)\n",
    "        \n",
    "        # Verify and store valid image paths\n",
    "        self.valid_data = []  # Changed to store valid entries\n",
    "        for _, row in self.data.iterrows():\n",
    "            img_name = row['image_id']\n",
    "            label = row['label']\n",
    "            \n",
    "            # Check in label subdirectory\n",
    "            potential_path = os.path.join(self.base_path, label, img_name)\n",
    "            if os.path.exists(potential_path):\n",
    "                self.valid_data.append({\n",
    "                    'image_path': potential_path,\n",
    "                    'label': label\n",
    "                })\n",
    "        \n",
    "        print(f\"Found {len(self.valid_data)} valid images\")\n",
    "\n",
    "    def __len__(self):\n",
    "        return len(self.valid_data)\n",
    "\n",
    "    def __getitem__(self, idx):\n",
    "        item = self.valid_data[idx]\n",
    "        img = Image.open(item['image_path']).convert('RGB')\n",
    "        label = self.label_mapping[item['label']]\n",
    "        \n",
    "        if self.transform:\n",
    "            img = self.transform(img)\n",
    "            \n",
    "        return img, label\n",
    "\n",
    "class CustomRiceNet(nn.Module):\n",
    "    def __init__(self, num_classes):\n",
    "        super(CustomRiceNet, self).__init__()\n",
    "        \n",
    "        # Feature extractors\n",
    "        self.resnet_features = models.resnet18(weights='IMAGENET1K_V1')  # Updated pretrained parameter\n",
    "        resnet_out = self.resnet_features.fc.in_features\n",
    "        self.resnet_features.fc = nn.Identity()\n",
    "        \n",
    "        self.densenet_features = models.densenet121(weights='IMAGENET1K_V1')  # Updated pretrained parameter\n",
    "        densenet_out = self.densenet_features.classifier.in_features\n",
    "        self.densenet_features.classifier = nn.Identity()\n",
    "        \n",
    "        combined_features = resnet_out + densenet_out\n",
    "        \n",
    "        # Attention mechanism\n",
    "        self.attention = nn.Sequential(\n",
    "            nn.Linear(combined_features, 512),\n",
    "            nn.ReLU(),\n",
    "            nn.Linear(512, 1),  # Changed to output single attention weight\n",
    "            nn.Sigmoid()\n",
    "        )\n",
    "        \n",
    "        # Feature fusion layers\n",
    "        self.fusion = nn.Sequential(\n",
    "            nn.Linear(combined_features, 1024),\n",
    "            nn.ReLU(),\n",
    "            nn.Dropout(0.4),\n",
    "            nn.Linear(1024, 512),\n",
    "            nn.ReLU(),\n",
    "            nn.Dropout(0.3)\n",
    "        )\n",
    "        \n",
    "        # Final classification layer\n",
    "        self.classifier = nn.Linear(512, num_classes)\n",
    "\n",
    "    def forward(self, x):\n",
    "        # Extract features from both networks\n",
    "        resnet_out = self.resnet_features(x)\n",
    "        densenet_out = self.densenet_features(x)\n",
    "        \n",
    "        # Concatenate features\n",
    "        combined_features = torch.cat((resnet_out, densenet_out), dim=1)\n",
    "        \n",
    "        # Apply attention\n",
    "        attention_weights = self.attention(combined_features)\n",
    "        weighted_features = combined_features * attention_weights\n",
    "        \n",
    "        # Fuse features\n",
    "        fused_features = self.fusion(weighted_features)\n",
    "        \n",
    "        # Final classification\n",
    "        output = self.classifier(fused_features)\n",
    "        \n",
    "        return output\n",
    "\n",
    "class CustomRiceLoss(nn.Module):\n",
    "    def __init__(self):\n",
    "        super(CustomRiceLoss, self).__init__()\n",
    "        self.criterion = nn.CrossEntropyLoss()\n",
    "        \n",
    "    def forward(self, outputs, targets):\n",
    "        return self.criterion(outputs, targets)\n",
    "\n",
    "def train_model(model, train_loader, val_loader, criterion, optimizer, scheduler, device, num_epochs=50):\n",
    "    best_val_loss = float('inf')\n",
    "    training_history = []\n",
    "\n",
    "    for epoch in range(num_epochs):\n",
    "        print(f'\\nEpoch {epoch+1}/{num_epochs}')\n",
    "        \n",
    "        # Training phase\n",
    "        model.train()\n",
    "        train_loss = 0\n",
    "        train_correct = 0\n",
    "        train_total = 0\n",
    "\n",
    "        for inputs, targets in tqdm(train_loader, desc='Training'):\n",
    "            inputs, targets = inputs.to(device), targets.to(device)\n",
    "            \n",
    "            optimizer.zero_grad()\n",
    "            outputs = model(inputs)\n",
    "            loss = criterion(outputs, targets)\n",
    "            \n",
    "            loss.backward()\n",
    "            optimizer.step()\n",
    "            \n",
    "            train_loss += loss.item()\n",
    "            _, predicted = outputs.max(1)\n",
    "            train_total += targets.size(0)\n",
    "            train_correct += predicted.eq(targets).sum().item()\n",
    "\n",
    "        train_loss = train_loss / len(train_loader)\n",
    "        train_acc = 100. * train_correct / train_total\n",
    "\n",
    "        # Validation phase\n",
    "        model.eval()\n",
    "        val_loss = 0\n",
    "        val_correct = 0\n",
    "        val_total = 0\n",
    "\n",
    "        with torch.no_grad():\n",
    "            for inputs, targets in tqdm(val_loader, desc='Validation'):\n",
    "                inputs, targets = inputs.to(device), targets.to(device)\n",
    "                outputs = model(inputs)\n",
    "                loss = criterion(outputs, targets)\n",
    "                \n",
    "                val_loss += loss.item()\n",
    "                _, predicted = outputs.max(1)\n",
    "                val_total += targets.size(0)\n",
    "                val_correct += predicted.eq(targets).sum().item()\n",
    "\n",
    "        val_loss = val_loss / len(val_loader)\n",
    "        val_acc = 100. * val_correct / val_total\n",
    "\n",
    "        # Print epoch results\n",
    "        print(f'Train Loss: {train_loss:.4f} | Train Acc: {train_acc:.2f}%')\n",
    "        print(f'Val Loss: {val_loss:.4f} | Val Acc: {val_acc:.2f}%')\n",
    "\n",
    "        # Save best model\n",
    "        if val_loss < best_val_loss:\n",
    "            best_val_loss = val_loss\n",
    "            torch.save({\n",
    "                'epoch': epoch,\n",
    "                'model_state_dict': model.state_dict(),\n",
    "                'optimizer_state_dict': optimizer.state_dict(),\n",
    "                'val_loss': val_loss,\n",
    "                'val_acc': val_acc\n",
    "            }, 'best_custom_rice_model.pth')\n",
    "\n",
    "        # Learning rate scheduling\n",
    "        scheduler.step(val_loss)\n",
    "\n",
    "        # Store results\n",
    "        training_history.append({\n",
    "            'epoch': epoch + 1,\n",
    "            'train_loss': train_loss,\n",
    "            'train_acc': train_acc,\n",
    "            'val_loss': val_loss,\n",
    "            'val_acc': val_acc\n",
    "        })\n",
    "\n",
    "    return training_history\n",
    "\n",
    "def main():\n",
    "    # Set random seed\n",
    "    torch.manual_seed(42)\n",
    "    \n",
    "    # Setup device\n",
    "    device = torch.device(\"cuda\" if torch.cuda.is_available() else \"cpu\")\n",
    "    print(f\"Using device: {device}\")\n",
    "\n",
    "    # Define transforms\n",
    "    train_transforms = transforms.Compose([\n",
    "        transforms.Resize((224, 224)),\n",
    "        transforms.RandomHorizontalFlip(p=0.5),\n",
    "        transforms.RandomVerticalFlip(p=0.5),\n",
    "        transforms.RandomRotation(30),\n",
    "        transforms.ColorJitter(brightness=0.2, contrast=0.2, saturation=0.2, hue=0.1),\n",
    "        transforms.RandomAffine(degrees=0, translate=(0.1, 0.1), scale=(0.9, 1.1)),\n",
    "        transforms.ToTensor(),\n",
    "        transforms.Normalize(mean=[0.485, 0.456, 0.406], std=[0.229, 0.224, 0.225])\n",
    "    ])\n",
    "\n",
    "    val_transforms = transforms.Compose([\n",
    "        transforms.Resize((224, 224)),\n",
    "        transforms.ToTensor(),\n",
    "        transforms.Normalize(mean=[0.485, 0.456, 0.406], std=[0.229, 0.224, 0.225])\n",
    "    ])\n",
    "\n",
    "    # Create datasets\n",
    "    csv_file = '/kaggle/input/paddydoctor/train.csv'\n",
    "    base_path = '/kaggle/input/paddydoctor/train_images'\n",
    "    \n",
    "    full_dataset = RiceDiseaseDataset(csv_file=csv_file, base_path=base_path, transform=None)\n",
    "    \n",
    "    # Split indices\n",
    "    train_indices, val_indices = train_test_split(\n",
    "        range(len(full_dataset)),\n",
    "        test_size=0.2,\n",
    "        random_state=42\n",
    "    )\n",
    "\n",
    "    # Create train and validation datasets\n",
    "    train_dataset = RiceDiseaseDataset(csv_file=csv_file, base_path=base_path, transform=train_transforms)\n",
    "    val_dataset = RiceDiseaseDataset(csv_file=csv_file, base_path=base_path, transform=val_transforms)\n",
    "\n",
    "    # Create subsets\n",
    "    train_subset = Subset(train_dataset, train_indices)\n",
    "    val_subset = Subset(val_dataset, val_indices)\n",
    "\n",
    "    # Create dataloaders\n",
    "    train_loader = DataLoader(train_subset, batch_size=32, shuffle=True, num_workers=2)\n",
    "    val_loader = DataLoader(val_subset, batch_size=32, shuffle=False, num_workers=2)\n",
    "\n",
    "    # Initialize model\n",
    "    model = CustomRiceNet(num_classes=len(full_dataset.label_mapping))\n",
    "    model = model.to(device)\n",
    "\n",
    "    # Initialize loss and optimizer\n",
    "    criterion = CustomRiceLoss()\n",
    "    optimizer = optim.AdamW(model.parameters(), lr=0.001, weight_decay=0.01)\n",
    "    scheduler = optim.lr_scheduler.ReduceLROnPlateau(\n",
    "        optimizer, mode='min', factor=0.1, patience=3, verbose=True\n",
    "    )\n",
    "\n",
    "    # Train the model\n",
    "    training_history = train_model(\n",
    "        model=model,\n",
    "        train_loader=train_loader,\n",
    "        val_loader=val_loader,\n",
    "        criterion=criterion,\n",
    "        optimizer=optimizer,\n",
    "        scheduler=scheduler,\n",
    "        device=device,\n",
    "        num_epochs=50\n",
    "    )\n",
    "\n",
    "    # Save training history\n",
    "    pd.DataFrame(training_history).to_csv('training_history.csv', index=False)\n",
    "\n",
    "if __name__ == '__main__':\n",
    "    main()"
   ]
  },
  {
   "cell_type": "code",
   "execution_count": 2,
   "metadata": {
    "execution": {
     "iopub.execute_input": "2025-01-07T22:20:28.370809Z",
     "iopub.status.busy": "2025-01-07T22:20:28.370498Z",
     "iopub.status.idle": "2025-01-07T22:20:28.976534Z",
     "shell.execute_reply": "2025-01-07T22:20:28.975745Z",
     "shell.execute_reply.started": "2025-01-07T22:20:28.370782Z"
    },
    "trusted": true
   },
   "outputs": [
    {
     "data": {
      "image/png": "[encoded data removed]",
      "text/plain": [
       "<Figure size 1200x600 with 1 Axes>"
      ]
     },
     "metadata": {},
     "output_type": "display_data"
    },
    {
     "data": {
      "image/png": "[encoded data removed]",
      "text/plain": [
       "<Figure size 1200x600 with 1 Axes>"
      ]
     },
     "metadata": {},
     "output_type": "display_data"
    }
   ],
   "source": [
    "import pandas as pd\n",
    "import matplotlib.pyplot as plt\n",
    "\n",
    "# Load the training history\n",
    "training_history = pd.read_csv('training_history.csv')\n",
    "\n",
    "# Plot training and validation loss\n",
    "plt.figure(figsize=(12, 6))\n",
    "plt.plot(training_history['epoch'], training_history['train_loss'], label='Train Loss', marker='o')\n",
    "plt.plot(training_history['epoch'], training_history['val_loss'], label='Validation Loss', marker='o')\n",
    "plt.title('Training and Validation Loss Over Epochs')\n",
    "plt.xlabel('Epoch')\n",
    "plt.ylabel('Loss')\n",
    "plt.legend()\n",
    "plt.grid()\n",
    "plt.show()\n",
    "\n",
    "# Plot training and validation accuracy\n",
    "plt.figure(figsize=(12, 6))\n",
    "plt.plot(training_history['epoch'], training_history['train_acc'], label='Train Accuracy', marker='o')\n",
    "plt.plot(training_history['epoch'], training_history['val_acc'], label='Validation Accuracy', marker='o')\n",
    "plt.title('Training and Validation Accuracy Over Epochs')\n",
    "plt.xlabel('Epoch')\n",
    "plt.ylabel('Accuracy (%)')\n",
    "plt.legend()\n",
    "plt.grid()\n",
    "plt.show()\n"
   ]
  }
 ],
 "metadata": {
  "kaggle": {
   "accelerator": "nvidiaTeslaT4",
   "dataSources": [
    {
     "datasetId": 2360940,
     "sourceId": 3978385,
     "sourceType": "datasetVersion"
    }
   ],
   "dockerImageVersionId": 30823,
   "isGpuEnabled": true,
   "isInternetEnabled": true,
   "language": "python",
   "sourceType": "notebook"
  },
  "kernelspec": {
   "display_name": "Python 3",
   "language": "python",
   "name": "python3"
  },
  "language_info": {
   "codemirror_mode": {
    "name": "ipython",
    "version": 3
   },
   "file_extension": ".py",
   "mimetype": "text/x-python",
   "name": "python",
   "nbconvert_exporter": "python",
   "pygments_lexer": "ipython3",
   "version": "3.10.12"
  }
 },
 "nbformat": 4,
 "nbformat_minor": 4
}
